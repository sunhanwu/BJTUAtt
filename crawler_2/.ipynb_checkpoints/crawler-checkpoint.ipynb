{
 "cells": [
  {
   "cell_type": "code",
   "execution_count": 3,
   "metadata": {
    "collapsed": false
   },
   "outputs": [],
   "source": [
    "from selenium import webdriver\n",
    "chromeOptions = webdriver.ChromeOptions()\n",
    "chromeOptions.add_argument(\"--disable-notifications\")\n",
    "browser = webdriver.Chrome(chrome_options=chromeOptions)\n",
    "url=\"https://www.facebook.com\"\n",
    "browser.get(url)"
   ]
  },
  {
   "cell_type": "code",
   "execution_count": 4,
   "metadata": {
    "collapsed": false
   },
   "outputs": [],
   "source": [
    "username=browser.find_element_by_xpath('//*[@id=\"email\"]')\n",
    "username.send_keys('18800172165')\n",
    "passwd=browser.find_element_by_xpath('//*[@id=\"pass\"]')\n",
    "passwd.send_keys('Ydm186919')\n",
    "button=browser.find_element_by_xpath('//*[@id=\"loginbutton\"]')\n",
    "button.click()"
   ]
  },
  {
   "cell_type": "code",
   "execution_count": 15,
   "metadata": {
    "collapsed": false
   },
   "outputs": [
    {
     "name": "stdout",
     "output_type": "stream",
     "text": [
      "[{u'domain': u'.facebook.com', u'name': u'presence', u'value': u'EDvF3EtimeF1524887840EuserFA21B22453133733A2EstateFDutF1524887840177Et3F_5b_5dElm3FnullEutc3F0CEchFDp_5f1B22453133733F2CC', u'path': u'/', u'httpOnly': False, u'secure': True}, {u'domain': u'.facebook.com', u'secure': True, u'value': u'n', u'expiry': 1532663832.593284, u'path': u'/', u'httpOnly': True, u'name': u'pl'}, {u'domain': u'.facebook.com', u'secure': True, u'value': u'0E5IlwEgIGjVO9nMN.AWXahghZRai1C_Ag-n5rubv6RKY.Ba4_ER.Yi.AAA.0.0.Ba4_EY.AWXiTdRT', u'expiry': 1532663832.593211, u'path': u'/', u'httpOnly': True, u'name': u'fr'}, {u'domain': u'.facebook.com', u'secure': True, u'value': u'24%3AcGXuA2F23P68RQ%3A2%3A1524887833%3A20290%3A3232', u'expiry': 1532663832.593197, u'path': u'/', u'httpOnly': True, u'name': u'xs'}, {u'domain': u'.facebook.com', u'secure': True, u'value': u'EfHjWpgw7FF3tMscSm5QrNtL', u'expiry': 1587959832.593002, u'path': u'/', u'httpOnly': True, u'name': u'datr'}, {u'domain': u'.facebook.com', u'secure': True, u'value': u'100022453133733', u'expiry': 1532663832.593184, u'path': u'/', u'httpOnly': False, u'name': u'c_user'}, {u'domain': u'.facebook.com', u'secure': True, u'value': u'935x863', u'expiry': 1525492636, u'path': u'/', u'httpOnly': False, u'name': u'wd'}, {u'domain': u'.facebook.com', u'secure': True, u'value': u'EfHjWvqWV_sjCD6ffxTVZk07', u'expiry': 1587959832.593167, u'path': u'/', u'httpOnly': True, u'name': u'sb'}]\n"
     ]
    }
   ],
   "source": [
    "cookies=browser.get_cookies()\n",
    "print(cookies)\n"
   ]
  },
  {
   "cell_type": "code",
   "execution_count": 6,
   "metadata": {
    "collapsed": false,
    "scrolled": true
   },
   "outputs": [],
   "source": [
    "#找到好友列表\n",
    "friends=browser.find_element_by_xpath('//*[@id=\"navItem_1572366616371383\"]/a/div')\n",
    "friends.click()\n"
   ]
  },
  {
   "cell_type": "code",
   "execution_count": 8,
   "metadata": {
    "collapsed": true
   },
   "outputs": [],
   "source": [
    "all_friends=browser.find_element_by_xpath('//*[@id=\"pagelet_bookmark_seeall\"]/div/div/div[1]/div/div[1]/div/a[2]')\n",
    "all_friends.click()\n"
   ]
  },
  {
   "cell_type": "code",
   "execution_count": 12,
   "metadata": {
    "collapsed": false
   },
   "outputs": [],
   "source": [
    "browser.execute_script(\"window.scrollBy(0,1000)\")\n",
    "browser.execute_script(\"window.scrollBy(0,1000)\")\n",
    "browser.execute_script(\"window.scrollBy(0,1000)\")"
   ]
  },
  {
   "cell_type": "code",
   "execution_count": 15,
   "metadata": {
    "collapsed": false
   },
   "outputs": [
    {
     "name": "stdout",
     "output_type": "stream",
     "text": [
      "4\n"
     ]
    }
   ],
   "source": [
    "friends_list_blocks=browser.find_elements_by_xpath('//*[@id=\"pagelet_timeline_app_collection_100022453133733:2356318349:2\"]/*')\n",
    "print(len(friends_list))"
   ]
  },
  {
   "cell_type": "code",
   "execution_count": 21,
   "metadata": {
    "collapsed": false
   },
   "outputs": [
    {
     "name": "stdout",
     "output_type": "stream",
     "text": [
      "0\n",
      "547\n",
      "539\n",
      "462\n"
     ]
    }
   ],
   "source": [
    "for ul in friends_list_blocks:\n",
    "    li_list=ul.find_elements_by_xpath('.//*')\n",
    "    print(len(li_list))\n",
    "#     for li in li_list:\n",
    "#         print(li.get_attribute())"
   ]
  },
  {
   "cell_type": "code",
   "execution_count": null,
   "metadata": {
    "collapsed": true
   },
   "outputs": [],
   "source": []
  }
 ],
 "metadata": {
  "kernelspec": {
   "display_name": "Python 3",
   "language": "python",
   "name": "python3"
  },
  "language_info": {
   "codemirror_mode": {
    "name": "ipython",
    "version": 2
   },
   "file_extension": ".py",
   "mimetype": "text/x-python",
   "name": "python",
   "nbconvert_exporter": "python",
   "pygments_lexer": "ipython2",
   "version": "2.7.13+"
  }
 },
 "nbformat": 4,
 "nbformat_minor": 2
}
